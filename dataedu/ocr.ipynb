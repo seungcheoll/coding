{
 "cells": [
  {
   "cell_type": "code",
   "execution_count": null,
   "metadata": {},
   "outputs": [
    {
     "name": "stdout",
     "output_type": "stream",
     "text": [
      "| — 5 —|\n",
      "\n",
      "SIS} OIAIX}OI INTERSECTO! CH8t ABO 7S Ask 22\n",
      "\n",
      "D Fz] A] SQLES] Axpo] det PALS, Sea\n",
      "\n",
      "yom Scott.\n",
      "2 Hel 712] SQLeo| Sao] et GATOS, Sa\n",
      "a2 Sgetch\n",
      "\n",
      "> A=] 7H} SQLS] Axo] Wet pasos aug\n",
      "goe 2st —\n",
      "\n",
      "\n"
     ]
    }
   ],
   "source": [
    "import pytesseract\n",
    "from PIL import Image\n",
    "\n",
    "# Tesseract 경로 설정 (Windows 사용자)\n",
    "pytesseract.pytesseract.tesseract_cmd = r\"C:/Program Files/Tesseract-OCR/tesseract.exe\"\n",
    "\n",
    "# 이미지 로드 및 OCR 수행\n",
    "image_path = \"C:/Users/lsc/Desktop/dataedu/data/image.jpg\"\n",
    "image = Image.open(image_path)\n",
    "text = pytesseract.image_to_string(image)\n",
    "\n",
    "print(text)"
   ]
  },
  {
   "cell_type": "code",
   "execution_count": 1,
   "metadata": {},
   "outputs": [
    {
     "name": "stdout",
     "output_type": "stream",
     "text": [
      "📜 인식된 텍스트:\n",
      " :::끄[ Ly ㄴ Ik \\ ¥ 60462 은 , gaa\n",
      "\n",
      "집 합 연 산 자 인 INTERSECTO 대 한 설 명 으 로 가 장 적 절 한 것\n",
      "\n",
      "브 쁘\n",
      "\n",
      "D 여 러 개 의 501 문 의 결 과에 대 한 함 집 합 으 로 , 중 복 된\n",
      "\n",
      "행 으 로 출 력 한 다 .\n",
      "D Az} 개 의 501 문 의 Azo] 대 한 합 집 합 으 로 , aus gr\n",
      "결 과 로 출 력 한 다 .\n",
      "\n",
      "여 러 개 의 SQLS] 결 과에 대 한 교 집 합 으 로\n",
      "행 으 로 출 력 한 다 .\n",
      "\n",
      "SOLE 결 과 간 의 차 집 합 으 로 , 중 복 된 Bo 하 나 의 gos :\n",
      "\n",
      "쌍\n",
      "\n",
      "” “TE 느리\n",
      "\n",
      "\n"
     ]
    }
   ],
   "source": [
    "import cv2\n",
    "import pytesseract\n",
    "import os\n",
    "\n",
    "# 📌 Windows용 Tesseract 실행 파일 경로 설정\n",
    "tesseract_path = r\"C:\\Program Files\\Tesseract-OCR\\tesseract.exe\"\n",
    "if not os.path.exists(tesseract_path):\n",
    "    raise FileNotFoundError(\"Tesseract가 설치되지 않았습니다. 설치 후 경로를 확인하세요: https://github.com/UB-Mannheim/tesseract/wiki\")\n",
    "\n",
    "pytesseract.pytesseract.tesseract_cmd = tesseract_path\n",
    "\n",
    "# 📌 이미지 파일 경로 설정 (Windows 경로 형식)\n",
    "img_path = \"C:/Users/lsc/Desktop/dataedu/data/image.jpg\"\n",
    "\n",
    "# 이미지 로드\n",
    "image = cv2.imread(img_path)\n",
    "\n",
    "# 📌 Tesseract OCR 실행 (Windows에서는 `tessdata` 경로 필요 없음)\n",
    "text = pytesseract.image_to_string(image, lang=\"kor+eng\")\n",
    "\n",
    "# 결과 출력\n",
    "print(\"📜 인식된 텍스트:\\n\", text)\n"
   ]
  }
 ],
 "metadata": {
  "kernelspec": {
   "display_name": "py3_10_4",
   "language": "python",
   "name": "python3"
  },
  "language_info": {
   "codemirror_mode": {
    "name": "ipython",
    "version": 3
   },
   "file_extension": ".py",
   "mimetype": "text/x-python",
   "name": "python",
   "nbconvert_exporter": "python",
   "pygments_lexer": "ipython3",
   "version": "3.10.4"
  }
 },
 "nbformat": 4,
 "nbformat_minor": 2
}
